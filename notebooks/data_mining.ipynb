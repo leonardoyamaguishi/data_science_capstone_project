{
 "cells": [
  {
   "cell_type": "code",
   "execution_count": 1,
   "id": "9931b4e1",
   "metadata": {},
   "outputs": [
    {
     "name": "stdout",
     "output_type": "stream",
     "text": [
      "Project root location in: \n",
      "/Users/leonardoyamaguishi/Documents/Udacity/data_science_capstone_project/\n"
     ]
    }
   ],
   "source": [
    "# System path setup\n",
    "import os\n",
    "import sys\n",
    "\n",
    "print('Project root location in: \\n' + os.path.abspath('')[:-9])\n",
    "\n",
    "data_filepath = os.path.abspath('')[:-9] + '/data/'\n",
    "sys.path.insert(0, os.path.abspath('')[:-9] + '/modules/')"
   ]
  },
  {
   "cell_type": "code",
   "execution_count": 2,
   "id": "528eabc0",
   "metadata": {},
   "outputs": [],
   "source": [
    "# Importing libraries for Data Handling and EDA\n",
    "import pandas as pd\n",
    "import numpy as np\n",
    "import scipy\n",
    "from sklearn.utils import shuffle\n",
    "from sklearn.preprocessing import StandardScaler\n",
    "from apriori_python import apriori\n",
    "\n",
    "# Plotting libraries\n",
    "import seaborn as sns\n",
    "import matplotlib.pyplot as plt\n",
    "import plotly.express as px\n",
    "\n",
    "# Modules created based on the EDA and ETL steps\n",
    "from modelling_support import prioritize_and_drop_redundant_columns\n",
    "from modelling_support import above_median_metric\n",
    "\n",
    "# Libraries for Data Mining\n",
    "from sklearn.model_selection import train_test_split\n",
    "from sklearn.model_selection import cross_validate\n",
    "\n",
    "from sklearn.ensemble import RandomForestClassifier\n",
    "from sklearn.ensemble import AdaBoostClassifier\n",
    "from sklearn.tree import DecisionTreeClassifier\n",
    "\n",
    "\n",
    "# Model evaluation libraries\n",
    "from sklearn.metrics import accuracy_score\n",
    "from sklearn.metrics import confusion_matrix"
   ]
  },
  {
   "cell_type": "markdown",
   "id": "689d9398",
   "metadata": {},
   "source": [
    "## Proposed Data mining worflow\n",
    "\n",
    "**Feature Selection:** Using Ada Boost Classifier to determine the most relevant features for the desired classification, based on the way that this classifier gives higher relevancy to splits that result in lower Gini Indices, while decreasing possible bias by considering previous misclassifications throughout its iterations.\n",
    "\n",
    "**Data Mining:** Based on the features selected using the Ada Boost Classifier, a Random Forest Classifier will be trained to have a higher potential of generalization on the training data, in order to assess the possibility of predicting the overall performance of a listing using only the data in its front page, disconsidering the comments."
   ]
  },
  {
   "cell_type": "code",
   "execution_count": 3,
   "id": "24835d13",
   "metadata": {
    "scrolled": true
   },
   "outputs": [
    {
     "data": {
      "text/html": [
       "<div>\n",
       "<style scoped>\n",
       "    .dataframe tbody tr th:only-of-type {\n",
       "        vertical-align: middle;\n",
       "    }\n",
       "\n",
       "    .dataframe tbody tr th {\n",
       "        vertical-align: top;\n",
       "    }\n",
       "\n",
       "    .dataframe thead th {\n",
       "        text-align: right;\n",
       "    }\n",
       "</style>\n",
       "<table border=\"1\" class=\"dataframe\">\n",
       "  <thead>\n",
       "    <tr style=\"text-align: right;\">\n",
       "      <th></th>\n",
       "      <th>id</th>\n",
       "      <th>host_id</th>\n",
       "      <th>host_response_time</th>\n",
       "      <th>host_response_rate</th>\n",
       "      <th>host_is_superhost</th>\n",
       "      <th>host_has_profile_pic</th>\n",
       "      <th>host_identity_verified</th>\n",
       "      <th>accommodates</th>\n",
       "      <th>bedrooms</th>\n",
       "      <th>beds</th>\n",
       "      <th>...</th>\n",
       "      <th>amn_linen</th>\n",
       "      <th>amn_microwave</th>\n",
       "      <th>amn_stove</th>\n",
       "      <th>amn_hair</th>\n",
       "      <th>amn_coffee</th>\n",
       "      <th>amn_oven</th>\n",
       "      <th>amn_standard</th>\n",
       "      <th>amn_fire</th>\n",
       "      <th>amn_blanket</th>\n",
       "      <th>above_median</th>\n",
       "    </tr>\n",
       "  </thead>\n",
       "  <tbody>\n",
       "    <tr>\n",
       "      <th>0</th>\n",
       "      <td>17878</td>\n",
       "      <td>68997</td>\n",
       "      <td>1.0</td>\n",
       "      <td>1.0</td>\n",
       "      <td>0</td>\n",
       "      <td>1</td>\n",
       "      <td>1</td>\n",
       "      <td>5</td>\n",
       "      <td>2.0</td>\n",
       "      <td>2.0</td>\n",
       "      <td>...</td>\n",
       "      <td>1</td>\n",
       "      <td>1</td>\n",
       "      <td>1</td>\n",
       "      <td>1</td>\n",
       "      <td>1</td>\n",
       "      <td>1</td>\n",
       "      <td>1</td>\n",
       "      <td>0</td>\n",
       "      <td>0</td>\n",
       "      <td>1</td>\n",
       "    </tr>\n",
       "    <tr>\n",
       "      <th>1</th>\n",
       "      <td>24480</td>\n",
       "      <td>99249</td>\n",
       "      <td>4.0</td>\n",
       "      <td>1.0</td>\n",
       "      <td>0</td>\n",
       "      <td>1</td>\n",
       "      <td>1</td>\n",
       "      <td>2</td>\n",
       "      <td>1.0</td>\n",
       "      <td>1.0</td>\n",
       "      <td>...</td>\n",
       "      <td>1</td>\n",
       "      <td>1</td>\n",
       "      <td>0</td>\n",
       "      <td>1</td>\n",
       "      <td>1</td>\n",
       "      <td>0</td>\n",
       "      <td>1</td>\n",
       "      <td>0</td>\n",
       "      <td>1</td>\n",
       "      <td>1</td>\n",
       "    </tr>\n",
       "    <tr>\n",
       "      <th>2</th>\n",
       "      <td>25026</td>\n",
       "      <td>102840</td>\n",
       "      <td>3.0</td>\n",
       "      <td>0.8</td>\n",
       "      <td>0</td>\n",
       "      <td>1</td>\n",
       "      <td>1</td>\n",
       "      <td>3</td>\n",
       "      <td>1.0</td>\n",
       "      <td>1.0</td>\n",
       "      <td>...</td>\n",
       "      <td>1</td>\n",
       "      <td>1</td>\n",
       "      <td>1</td>\n",
       "      <td>1</td>\n",
       "      <td>1</td>\n",
       "      <td>1</td>\n",
       "      <td>1</td>\n",
       "      <td>0</td>\n",
       "      <td>0</td>\n",
       "      <td>1</td>\n",
       "    </tr>\n",
       "    <tr>\n",
       "      <th>3</th>\n",
       "      <td>35636</td>\n",
       "      <td>153232</td>\n",
       "      <td>1.0</td>\n",
       "      <td>1.0</td>\n",
       "      <td>1</td>\n",
       "      <td>1</td>\n",
       "      <td>1</td>\n",
       "      <td>2</td>\n",
       "      <td>1.0</td>\n",
       "      <td>1.0</td>\n",
       "      <td>...</td>\n",
       "      <td>1</td>\n",
       "      <td>1</td>\n",
       "      <td>1</td>\n",
       "      <td>1</td>\n",
       "      <td>1</td>\n",
       "      <td>1</td>\n",
       "      <td>1</td>\n",
       "      <td>0</td>\n",
       "      <td>0</td>\n",
       "      <td>1</td>\n",
       "    </tr>\n",
       "    <tr>\n",
       "      <th>4</th>\n",
       "      <td>35764</td>\n",
       "      <td>153691</td>\n",
       "      <td>1.0</td>\n",
       "      <td>1.0</td>\n",
       "      <td>1</td>\n",
       "      <td>1</td>\n",
       "      <td>1</td>\n",
       "      <td>2</td>\n",
       "      <td>1.0</td>\n",
       "      <td>1.0</td>\n",
       "      <td>...</td>\n",
       "      <td>1</td>\n",
       "      <td>1</td>\n",
       "      <td>1</td>\n",
       "      <td>1</td>\n",
       "      <td>1</td>\n",
       "      <td>0</td>\n",
       "      <td>1</td>\n",
       "      <td>1</td>\n",
       "      <td>1</td>\n",
       "      <td>1</td>\n",
       "    </tr>\n",
       "  </tbody>\n",
       "</table>\n",
       "<p>5 rows × 62 columns</p>\n",
       "</div>"
      ],
      "text/plain": [
       "      id  host_id  host_response_time  host_response_rate  host_is_superhost  \\\n",
       "0  17878    68997                 1.0                 1.0                  0   \n",
       "1  24480    99249                 4.0                 1.0                  0   \n",
       "2  25026   102840                 3.0                 0.8                  0   \n",
       "3  35636   153232                 1.0                 1.0                  1   \n",
       "4  35764   153691                 1.0                 1.0                  1   \n",
       "\n",
       "   host_has_profile_pic  host_identity_verified  accommodates  bedrooms  beds  \\\n",
       "0                     1                       1             5       2.0   2.0   \n",
       "1                     1                       1             2       1.0   1.0   \n",
       "2                     1                       1             3       1.0   1.0   \n",
       "3                     1                       1             2       1.0   1.0   \n",
       "4                     1                       1             2       1.0   1.0   \n",
       "\n",
       "   ...  amn_linen  amn_microwave  amn_stove  amn_hair  amn_coffee  amn_oven  \\\n",
       "0  ...          1              1          1         1           1         1   \n",
       "1  ...          1              1          0         1           1         0   \n",
       "2  ...          1              1          1         1           1         1   \n",
       "3  ...          1              1          1         1           1         1   \n",
       "4  ...          1              1          1         1           1         0   \n",
       "\n",
       "   amn_standard  amn_fire  amn_blanket  above_median  \n",
       "0             1         0            0             1  \n",
       "1             1         0            1             1  \n",
       "2             1         0            0             1  \n",
       "3             1         0            0             1  \n",
       "4             1         1            1             1  \n",
       "\n",
       "[5 rows x 62 columns]"
      ]
     },
     "execution_count": 3,
     "metadata": {},
     "output_type": "execute_result"
    }
   ],
   "source": [
    "# Reading data and joining a dataset with the assayed parameters\n",
    "amenities = pd.read_csv(data_filepath + 'amenities_post_etl.csv', index_col = 0)\n",
    "listings = pd.read_csv(data_filepath + 'listings_post_etl.csv', index_col = 0)\n",
    "\n",
    "filtered_amenities = prioritize_and_drop_redundant_columns(amenities, 0.8, 40)\n",
    "\n",
    "df = listings.join(filtered_amenities)\n",
    "df = above_median_metric(df)\n",
    "df.dropna(inplace = True)\n",
    "\n",
    "df.head()"
   ]
  },
  {
   "cell_type": "code",
   "execution_count": 4,
   "id": "157d6761",
   "metadata": {},
   "outputs": [],
   "source": [
    "# Dropping columns not considered for modelling and colinear features, such as human_development_index\n",
    "df.drop(['id',\n",
    "         'human_development_index',\n",
    "         'host_id',\n",
    "         'reviews_per_month',\n",
    "         'human_development_index',\n",
    "         'host_days_since_start', # Removed due to survivor bias\n",
    "         'host_response_time', # Removed due to survivor bias\n",
    "         'host_response_rate', # Removed due to survivor bias\n",
    "         'host_is_superhost', # Removed due to survivor bias\n",
    "         'neighbourhood_key'],\n",
    "        axis = 1,\n",
    "        inplace = True)\n",
    "\n",
    "# Listing the input columns to filter the DataFrame\n",
    "input_columns = []\n",
    "\n",
    "for column in df.columns:\n",
    "    if column != 'above_median':\n",
    "        input_columns.append(column)\n",
    "\n",
    "# Splitting the dataset in train and test datasets\n",
    "df_train, df_test = train_test_split(df, test_size = 0.3, train_size = 0.7,random_state = 123)\n",
    "\n",
    "# Retrieving the dataset values as np.arrays to process the data on sklearn\n",
    "X_train = df_train[input_columns].values\n",
    "y_train = df_train['above_median'].values"
   ]
  },
  {
   "cell_type": "markdown",
   "id": "04c24876",
   "metadata": {},
   "source": [
    "## Feature selection: ADA Boosting Classifier"
   ]
  },
  {
   "cell_type": "code",
   "execution_count": 5,
   "id": "214ced2d",
   "metadata": {},
   "outputs": [],
   "source": [
    "# Defining a decision stomp (Decision Tree with max_depth = 1) for the Ada Boost Classifier\n",
    "decision_stomp = DecisionTreeClassifier(criterion = 'gini',\n",
    "                                          splitter = 'best',\n",
    "                                          max_depth = 1,\n",
    "                                          random_state = 123)"
   ]
  },
  {
   "cell_type": "code",
   "execution_count": 6,
   "id": "a915f87b",
   "metadata": {},
   "outputs": [],
   "source": [
    "def cross_validation_score_lists(model_for_cv, X_train, y_train):\n",
    "    '''\n",
    "    INPUTS:\n",
    "    model_for_cf - sklearn estimator to be evaluated using 5-fold cross validation\n",
    "    X_train - nd.array with the prediction data from the train dataset\n",
    "    y_train - array with the output data from the train dataset\n",
    "\n",
    "    OUTPUTS:\n",
    "    cv_score_list - (list) of with 10 train and validation scores\n",
    "    cv_score_type_list - (list) of score types, 5 for train and 5 for validation\n",
    "    '''\n",
    "    \n",
    "    cv_results = cross_validate(model_for_cv,\n",
    "                                X_train,\n",
    "                                y = y_train,\n",
    "                                return_estimator = True,\n",
    "                                return_train_score = True)\n",
    "    \n",
    "    # By standard the cross validator performs a 5-fold cross validation\n",
    "    \n",
    "    # Storing the results in a DataFrame with the columns n_estimators, score and score_type\n",
    "    # The idea is to be able to visualize the confidence interval of the scores\n",
    "    # Inspiration: https://stackabuse.com/seaborn-line-plot-tutorial-and-examples/\n",
    "    \n",
    "    cv_score_list = []\n",
    "    cv_score_type_list = []\n",
    "    \n",
    "    for i in range(0,5):\n",
    "        cv_score_list.append(cv_results['train_score'][i])\n",
    "        cv_score_type_list.append('train')\n",
    "\n",
    "        \n",
    "    for i in range(0,5):\n",
    "        cv_score_list.append(cv_results['test_score'][i])\n",
    "        cv_score_type_list.append('test')\n",
    "    \n",
    "    return cv_score_list, cv_score_type_list"
   ]
  },
  {
   "cell_type": "code",
   "execution_count": 7,
   "id": "5ac01272",
   "metadata": {},
   "outputs": [],
   "source": [
    "def evaluate_classification(y_real, y_prediction):\n",
    "    '''\n",
    "    INPUTS: \n",
    "    y_real - (array) of output boolean [0, 1] original values from a given dataset \n",
    "    y_prediction - (array) of output boolean [0, 1] predicted values from a given dataset\n",
    "    \n",
    "    OUTPUTS:\n",
    "    none\n",
    "    \n",
    "    Prints the Confusion Matrix based on the given inputs\n",
    "    '''\n",
    "    \n",
    "    acc = accuracy_score(y_real, y_prediction)\n",
    "    print('Train dataset accuracy: {}'.format(acc))\n",
    "    \n",
    "    c_m = confusion_matrix(y_real, y_prediction)\n",
    "\n",
    "\n",
    "    label_0_0 = \"True Negative:\\n \" + str(round((100*c_m[0,0])/c_m.sum(),1)) + '%'\n",
    "    label_0_1 = \"False Positive:\\n \" + str(round((100*c_m[0,1])/c_m.sum(),1)) + '%'\n",
    "    label_1_0 = \"False Negative:\\n \" + str(round((100*c_m[1,0])/c_m.sum(),1)) + '%'\n",
    "    label_1_1 = \"True Positive:\\n \" + str(round((100*c_m[1,1])/c_m.sum(),1)) + '%'\n",
    "\n",
    "    labels = [[label_0_0, label_0_1],[label_1_0, label_1_1]]\n",
    "\n",
    "    fig = plt.figure(figsize = (8,8))\n",
    "    sns.heatmap(c_m, annot = labels, fmt = '', cmap = 'Blues')\n",
    "    \n",
    "    return "
   ]
  },
  {
   "cell_type": "code",
   "execution_count": 8,
   "id": "cf79e6b6",
   "metadata": {},
   "outputs": [
    {
     "data": {
      "text/plain": [
       "<AxesSubplot:xlabel='n_estimators', ylabel='score'>"
      ]
     },
     "execution_count": 8,
     "metadata": {},
     "output_type": "execute_result"
    },
    {
     "data": {
      "image/png": "[encoded data removed]",
      "text/plain": [
       "<Figure size 432x288 with 1 Axes>"
      ]
     },
     "metadata": {
      "needs_background": "light"
     },
     "output_type": "display_data"
    }
   ],
   "source": [
    "# Evaluating the n_estimators from the Ada Boost Classifier using cross validation\n",
    "n_estimator_count  = []\n",
    "score_list = []\n",
    "score_type_list = []\n",
    "\n",
    "# Evaluating the n_estimators using cross validation\n",
    "for n_estimators in range(10,80, 5):\n",
    "    gradient_boosting_classifier = AdaBoostClassifier(base_estimator = decision_stomp,\n",
    "                                                      n_estimators = n_estimators,\n",
    "                                                      random_state = 123)\n",
    "    \n",
    "    cv_score_list, cv_score_type_list = cross_validation_score_lists(gradient_boosting_classifier,\n",
    "                                                                     X_train,\n",
    "                                                                     y_train)\n",
    "    \n",
    "    n_estimator_count = n_estimator_count + ([n_estimators]*10)\n",
    "    score_list = score_list + cv_score_list\n",
    "    score_type_list = score_type_list + cv_score_type_list\n",
    "\n",
    "score_df = pd.DataFrame({'n_estimators': n_estimator_count,\n",
    "                         'score' : score_list,\n",
    "                         'score_type' : score_type_list})\n",
    "    \n",
    "# Plotting the results from the Random Forest Classifier\n",
    "sns.lineplot(x = 'n_estimators', y = 'score', hue = 'score_type', data = score_df, ci = 95)"
   ]
  },
  {
   "cell_type": "code",
   "execution_count": 9,
   "id": "5b572fb5",
   "metadata": {
    "scrolled": true
   },
   "outputs": [],
   "source": [
    "# As the dispersion of the score for the test data seems to be smaller for 20 estimators\n",
    "# The chosen approach was to focus on the Ada Boost Classifier using 20 estimators\n",
    "gradient_boosting_classifier = AdaBoostClassifier(base_estimator = decision_stomp,\n",
    "                                                  n_estimators = 20,\n",
    "                                                  random_state = 123)\n",
    "\n",
    "cv_results = cross_validate(gradient_boosting_classifier,\n",
    "                            X_train,\n",
    "                            y = y_train,\n",
    "                            return_estimator = True,\n",
    "                            return_train_score = True)\n",
    "\n",
    "\n",
    "feature_importance_df = []\n",
    "\n",
    "# Assessing each developed estimator\n",
    "for i in range(0,5):\n",
    "    # Retrieving its feature importances\n",
    "    feature_importance_df.append(cv_results['estimator'][i].feature_importances_)\n",
    "\n",
    "feature_importance_df = pd.DataFrame(feature_importance_df, columns = input_columns)\n",
    "feature_importance_series = feature_importance_df.mean(axis = 0).sort_values(ascending = False)"
   ]
  },
  {
   "cell_type": "code",
   "execution_count": 10,
   "id": "873177bd",
   "metadata": {
    "scrolled": true
   },
   "outputs": [
    {
     "data": {
      "text/plain": [
       "review_scores_checkin          0.12\n",
       "review_scores_value            0.11\n",
       "review_scores_location         0.08\n",
       "minimum_nights_avg_ntm         0.08\n",
       "review_scores_cleanliness      0.07\n",
       "amn_linen                      0.06\n",
       "entire_home_apt                0.05\n",
       "review_scores_communication    0.05\n",
       "amn_microwave                  0.05\n",
       "maximum_nights_avg_ntm         0.05\n",
       "amn_standard                   0.05\n",
       "host_identity_verified         0.05\n",
       "amn_elevator                   0.05\n",
       "bathroom_qty                   0.04\n",
       "amn_free                       0.03\n",
       "review_scores_accuracy         0.02\n",
       "amn_wifi                       0.02\n",
       "amn_hair                       0.01\n",
       "bedrooms                       0.01\n",
       "dtype: float64"
      ]
     },
     "execution_count": 10,
     "metadata": {},
     "output_type": "execute_result"
    }
   ],
   "source": [
    "feature_importance_series[feature_importance_series > 0]"
   ]
  },
  {
   "cell_type": "markdown",
   "id": "bb5c4214",
   "metadata": {},
   "source": [
    "### Feature Selection: dataset subset assessment using the train dataset"
   ]
  },
  {
   "cell_type": "code",
   "execution_count": 11,
   "id": "d21a04e7",
   "metadata": {},
   "outputs": [
    {
     "name": "stdout",
     "output_type": "stream",
     "text": [
      "Train dataset accuracy: 0.7537537537537538\n"
     ]
    },
    {
     "data": {
      "image/png": "[encoded data removed]",
      "text/plain": [
       "<Figure size 576x576 with 2 Axes>"
      ]
     },
     "metadata": {
      "needs_background": "light"
     },
     "output_type": "display_data"
    }
   ],
   "source": [
    "# Assessing the chosen n_estimators using a confusion matrix\n",
    "evaluated_model = AdaBoostClassifier(base_estimator = decision_stomp, \n",
    "                                     n_estimators = 20,\n",
    "                                     random_state = 123)\n",
    "\n",
    "# Splitting the train set in training and validation\n",
    "# Attempting to create a 'local' dataset (subset) to evaluate the selected features using a confusion matrix\n",
    "X_train_eval, X_val_eval, y_train_eval, y_val_eval = train_test_split(X_train, y_train,\n",
    "                                                                      test_size = 0.3,\n",
    "                                                                      train_size = 0.7,\n",
    "                                                                      random_state = 123)\n",
    "# Training\n",
    "evaluated_model.fit(X_train_eval, y_train_eval)\n",
    "\n",
    "# Predicting for the local train dataset\n",
    "y_eval_predicted = evaluated_model.predict(X_train_eval)\n",
    "\n",
    "# Plotting the confusion matrix for the train dataset\n",
    "evaluate_classification(y_train_eval, y_eval_predicted)"
   ]
  },
  {
   "cell_type": "code",
   "execution_count": 12,
   "id": "1dffcc9b",
   "metadata": {},
   "outputs": [
    {
     "name": "stdout",
     "output_type": "stream",
     "text": [
      "Train dataset accuracy: 0.7536873156342183\n"
     ]
    },
    {
     "data": {
      "image/png": "[encoded data removed]",
      "text/plain": [
       "<Figure size 576x576 with 2 Axes>"
      ]
     },
     "metadata": {
      "needs_background": "light"
     },
     "output_type": "display_data"
    }
   ],
   "source": [
    "# Predicting the y values the local assessment dataset\n",
    "y_val_eval_predicted = evaluated_model.predict(X_val_eval)\n",
    "# Plotting the predicted y values from the local assessment dataset\n",
    "evaluate_classification(y_val_eval, y_val_eval_predicted)"
   ]
  },
  {
   "cell_type": "markdown",
   "id": "b4d1e162",
   "metadata": {},
   "source": [
    "## Data Mining: Random Forest Classifier"
   ]
  },
  {
   "cell_type": "code",
   "execution_count": 18,
   "id": "15d6c691",
   "metadata": {},
   "outputs": [],
   "source": [
    "# Selecting the features based on the ADA Boost\n",
    "selected_features = feature_importance_series[feature_importance_series > 0].index\n",
    "\n",
    "# Redefining the train and test dataset based on the selected features\n",
    "X_train = df_train[selected_features].values\n",
    "X_test = df_test[selected_features].values\n",
    "\n",
    "y_test = df_test['above_median'].values"
   ]
  },
  {
   "cell_type": "code",
   "execution_count": 14,
   "id": "37f04e85",
   "metadata": {},
   "outputs": [
    {
     "data": {
      "text/plain": [
       "<AxesSubplot:xlabel='n_estimators', ylabel='score'>"
      ]
     },
     "execution_count": 14,
     "metadata": {},
     "output_type": "execute_result"
    },
    {
     "data": {
      "image/png": "[encoded data removed]",
      "text/plain": [
       "<Figure size 432x288 with 1 Axes>"
      ]
     },
     "metadata": {
      "needs_background": "light"
     },
     "output_type": "display_data"
    }
   ],
   "source": [
    "n_estimator_count = []\n",
    "score_list = []\n",
    "score_type_list = []\n",
    "\n",
    "for n_estimators in range(10, 100, 5):\n",
    "    \n",
    "    generic_rfc = RandomForestClassifier(min_samples_split = 5, # Selected 5 to avoid overfitting\n",
    "                                         n_estimators = n_estimators) \n",
    "    \n",
    "    cv_score_list, cv_score_type_list = cross_validation_score_lists(generic_rfc,\n",
    "                                                                     X_train,\n",
    "                                                                     y_train)\n",
    "    \n",
    "    n_estimator_count = n_estimator_count + ([n_estimators]*10)\n",
    "    score_list = score_list + cv_score_list\n",
    "    score_type_list = score_type_list + cv_score_type_list\n",
    "\n",
    "score_df = pd.DataFrame({'n_estimators': n_estimator_count,\n",
    "                         'score' : score_list,\n",
    "                         'score_type' : score_type_list})\n",
    "    \n",
    "# Plotting the results from the Random Forest Classifier\n",
    "sns.lineplot(x = 'n_estimators', y = 'score', hue = 'score_type', data = score_df, ci = 95)"
   ]
  },
  {
   "cell_type": "code",
   "execution_count": 16,
   "id": "2eb29262",
   "metadata": {},
   "outputs": [
    {
     "name": "stdout",
     "output_type": "stream",
     "text": [
      "Train dataset accuracy: 0.7592654054652064\n"
     ]
    },
    {
     "data": {
      "image/png": "[encoded data removed]",
      "text/plain": [
       "<Figure size 576x576 with 2 Axes>"
      ]
     },
     "metadata": {
      "needs_background": "light"
     },
     "output_type": "display_data"
    }
   ],
   "source": [
    "chosen_rfc = RandomForestClassifier(min_samples_split = 5, # Selected 5 to avoid overfitting\n",
    "                                    n_estimators = 20,\n",
    "                                    random_state = 123)\n",
    "\n",
    "# Training\n",
    "evaluated_model.fit(X_train, y_train)\n",
    "\n",
    "# Predicting for the local train dataset\n",
    "y_predicted = evaluated_model.predict(X_train)\n",
    "\n",
    "# Plotting the confusion matrix for the train dataset\n",
    "evaluate_classification(y_train, y_predicted)"
   ]
  },
  {
   "cell_type": "code",
   "execution_count": 19,
   "id": "bd9bea87",
   "metadata": {},
   "outputs": [
    {
     "name": "stdout",
     "output_type": "stream",
     "text": [
      "Train dataset accuracy: 0.7570986060918947\n"
     ]
    },
    {
     "data": {
      "image/png": "[encoded data removed]",
      "text/plain": [
       "<Figure size 576x576 with 2 Axes>"
      ]
     },
     "metadata": {
      "needs_background": "light"
     },
     "output_type": "display_data"
    }
   ],
   "source": [
    "# Predicting for the local train dataset\n",
    "y_predicted = evaluated_model.predict(X_test)\n",
    "\n",
    "# Plotting the confusion matrix for the train dataset\n",
    "evaluate_classification(y_test, y_predicted)"
   ]
  },
  {
   "cell_type": "code",
   "execution_count": null,
   "id": "83a9b12d",
   "metadata": {},
   "outputs": [],
   "source": []
  }
 ],
 "metadata": {
  "kernelspec": {
   "display_name": "Python 3",
   "language": "python",
   "name": "python3"
  },
  "language_info": {
   "codemirror_mode": {
    "name": "ipython",
    "version": 3
   },
   "file_extension": ".py",
   "mimetype": "text/x-python",
   "name": "python",
   "nbconvert_exporter": "python",
   "pygments_lexer": "ipython3",
   "version": "3.9.1"
  }
 },
 "nbformat": 4,
 "nbformat_minor": 5
}
