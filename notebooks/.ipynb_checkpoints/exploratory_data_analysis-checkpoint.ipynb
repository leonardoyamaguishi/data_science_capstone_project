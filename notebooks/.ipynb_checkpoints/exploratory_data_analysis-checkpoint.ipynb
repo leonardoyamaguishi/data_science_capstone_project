{
 "cells": [
  {
   "cell_type": "markdown",
   "id": "43daf42d",
   "metadata": {},
   "source": [
    "# Exploratory Data Analysis (EDA) - Airbnb listings from Rio de Janeiro\n",
    "## This EDA has two sections: Listings EDA and Amenities EDA\n",
    "\n",
    "### Project overview: \n",
    "As Airbnb has become a popular alternative to hotels for vacations, the competitivity between listings has increased substancially with varied features in each acommodation. Therefore, in order for listings to stay relevant and succesfull, they must offer a good service while optimizing their investments by focusing on the most relevant features for the average user. <br/>\n",
    "Knowing that Rio de Janeiro is a famous city among local and international tourists due to its media traction, it's seems reasonable to assume that the listings can be summarized in aspects such as features offered by the host and intrinsic features of its region, since different regions present different socioeconomic indicators.\n",
    "\n",
    "### Problem definition:\n",
    "The objective of this project is to understand how the success of an Airbnb can be determined based on the information displayed to the customer.\n",
    "\n",
    "### Dataset relevant context:\n",
    "As mentioned in the link below the occupancy can be estimated using the number of reviews and a review rate (the ratio of total guests and the guests that review the Airbnb).\n",
    "http://insideairbnb.com/about.html\n",
    "\n",
    "### EDA questions:\n",
    "* How are the features distributed in the dataset?\n",
    "* How are the features correlated?\n",
    "* What are possible features that could cause data leaking?\n",
    "* Which metrics are the most adequate to measure the success of an Airbnb?"
   ]
  },
  {
   "cell_type": "code",
   "execution_count": 1,
   "id": "8e06d527",
   "metadata": {},
   "outputs": [
    {
     "name": "stdout",
     "output_type": "stream",
     "text": [
      "Project root location in: \n",
      "/home/leonardo/Documents/udacity_projects/data_science_capstone_project/\n"
     ]
    }
   ],
   "source": [
    "# System path setup\n",
    "import os\n",
    "import sys\n",
    "\n",
    "print('Project root location in: \\n' + os.path.abspath('')[:-9])\n",
    "\n",
    "data_filepath = os.path.abspath('')[:-9] + '/data/'\n",
    "sys.path.insert(0, os.path.abspath('')[:-9] + '/modules/')"
   ]
  },
  {
   "cell_type": "code",
   "execution_count": 2,
   "id": "7bd8a282",
   "metadata": {},
   "outputs": [],
   "source": [
    "# Importing libraries for Data Handling and EDA\n",
    "import pandas as pd\n",
    "import numpy as np\n",
    "import scipy\n",
    "\n",
    "# Plotting liberaries\n",
    "import seaborn as sns\n",
    "import matplotlib.pyplot as plt"
   ]
  },
  {
   "cell_type": "code",
   "execution_count": 3,
   "id": "c97c82c8",
   "metadata": {},
   "outputs": [],
   "source": [
    "amenities = pd.read_csv(data_filepath + 'amenities_post_etl.csv', index_col = 0)\n",
    "listings = pd.read_csv(data_filepath + 'listings_post_etl.csv', index_col = 0)"
   ]
  },
  {
   "cell_type": "markdown",
   "id": "e3e960d7",
   "metadata": {},
   "source": [
    "## Listings EDA"
   ]
  },
  {
   "cell_type": "markdown",
   "id": "9d896f69",
   "metadata": {},
   "source": [
    "### Dataset integrity deep dive"
   ]
  },
  {
   "cell_type": "code",
   "execution_count": 4,
   "id": "6100df06",
   "metadata": {
    "scrolled": true
   },
   "outputs": [
    {
     "data": {
      "text/html": [
       "<div>\n",
       "<style scoped>\n",
       "    .dataframe tbody tr th:only-of-type {\n",
       "        vertical-align: middle;\n",
       "    }\n",
       "\n",
       "    .dataframe tbody tr th {\n",
       "        vertical-align: top;\n",
       "    }\n",
       "\n",
       "    .dataframe thead th {\n",
       "        text-align: right;\n",
       "    }\n",
       "</style>\n",
       "<table border=\"1\" class=\"dataframe\">\n",
       "  <thead>\n",
       "    <tr style=\"text-align: right;\">\n",
       "      <th></th>\n",
       "      <th>id</th>\n",
       "      <th>host_id</th>\n",
       "      <th>host_response_time</th>\n",
       "      <th>host_response_rate</th>\n",
       "      <th>host_is_superhost</th>\n",
       "      <th>host_has_profile_pic</th>\n",
       "      <th>host_identity_verified</th>\n",
       "      <th>room_type</th>\n",
       "      <th>accommodates</th>\n",
       "      <th>bedrooms</th>\n",
       "      <th>...</th>\n",
       "      <th>host_days_since_start</th>\n",
       "      <th>bathroom_qty</th>\n",
       "      <th>shared_bathroom</th>\n",
       "      <th>walking_dist_stations</th>\n",
       "      <th>walking_dist_stations_scores</th>\n",
       "      <th>per_capita_income_2000</th>\n",
       "      <th>longevity_index</th>\n",
       "      <th>education_index</th>\n",
       "      <th>income_index</th>\n",
       "      <th>human_development_index</th>\n",
       "    </tr>\n",
       "  </thead>\n",
       "  <tbody>\n",
       "    <tr>\n",
       "      <th>0</th>\n",
       "      <td>17878</td>\n",
       "      <td>68997</td>\n",
       "      <td>within an hour</td>\n",
       "      <td>100%</td>\n",
       "      <td>0</td>\n",
       "      <td>1</td>\n",
       "      <td>1</td>\n",
       "      <td>Entire home/apt</td>\n",
       "      <td>5</td>\n",
       "      <td>2.0</td>\n",
       "      <td>...</td>\n",
       "      <td>4369.0</td>\n",
       "      <td>1.0</td>\n",
       "      <td>0</td>\n",
       "      <td>NONE</td>\n",
       "      <td>-1.0</td>\n",
       "      <td>1623.415521</td>\n",
       "      <td>0.879608</td>\n",
       "      <td>0.989888</td>\n",
       "      <td>1.0</td>\n",
       "      <td>0.956499</td>\n",
       "    </tr>\n",
       "    <tr>\n",
       "      <th>1</th>\n",
       "      <td>24480</td>\n",
       "      <td>99249</td>\n",
       "      <td>a few days or more</td>\n",
       "      <td>100%</td>\n",
       "      <td>0</td>\n",
       "      <td>1</td>\n",
       "      <td>1</td>\n",
       "      <td>Entire home/apt</td>\n",
       "      <td>2</td>\n",
       "      <td>1.0</td>\n",
       "      <td>...</td>\n",
       "      <td>4292.0</td>\n",
       "      <td>1.0</td>\n",
       "      <td>0</td>\n",
       "      <td>general_osorio</td>\n",
       "      <td>4.1</td>\n",
       "      <td>2465.445144</td>\n",
       "      <td>0.894594</td>\n",
       "      <td>0.991860</td>\n",
       "      <td>1.0</td>\n",
       "      <td>0.962151</td>\n",
       "    </tr>\n",
       "    <tr>\n",
       "      <th>2</th>\n",
       "      <td>25026</td>\n",
       "      <td>102840</td>\n",
       "      <td>within a day</td>\n",
       "      <td>80%</td>\n",
       "      <td>0</td>\n",
       "      <td>1</td>\n",
       "      <td>1</td>\n",
       "      <td>Entire home/apt</td>\n",
       "      <td>3</td>\n",
       "      <td>1.0</td>\n",
       "      <td>...</td>\n",
       "      <td>4284.0</td>\n",
       "      <td>1.0</td>\n",
       "      <td>0</td>\n",
       "      <td>NONE</td>\n",
       "      <td>-1.0</td>\n",
       "      <td>1623.415521</td>\n",
       "      <td>0.879608</td>\n",
       "      <td>0.989888</td>\n",
       "      <td>1.0</td>\n",
       "      <td>0.956499</td>\n",
       "    </tr>\n",
       "    <tr>\n",
       "      <th>3</th>\n",
       "      <td>35636</td>\n",
       "      <td>153232</td>\n",
       "      <td>within an hour</td>\n",
       "      <td>100%</td>\n",
       "      <td>1</td>\n",
       "      <td>1</td>\n",
       "      <td>1</td>\n",
       "      <td>Entire home/apt</td>\n",
       "      <td>2</td>\n",
       "      <td>1.0</td>\n",
       "      <td>...</td>\n",
       "      <td>4200.0</td>\n",
       "      <td>1.5</td>\n",
       "      <td>0</td>\n",
       "      <td>general_osorio</td>\n",
       "      <td>4.1</td>\n",
       "      <td>2465.445144</td>\n",
       "      <td>0.894594</td>\n",
       "      <td>0.991860</td>\n",
       "      <td>1.0</td>\n",
       "      <td>0.962151</td>\n",
       "    </tr>\n",
       "    <tr>\n",
       "      <th>4</th>\n",
       "      <td>35764</td>\n",
       "      <td>153691</td>\n",
       "      <td>within an hour</td>\n",
       "      <td>100%</td>\n",
       "      <td>1</td>\n",
       "      <td>1</td>\n",
       "      <td>1</td>\n",
       "      <td>Entire home/apt</td>\n",
       "      <td>2</td>\n",
       "      <td>1.0</td>\n",
       "      <td>...</td>\n",
       "      <td>4199.0</td>\n",
       "      <td>1.5</td>\n",
       "      <td>0</td>\n",
       "      <td>general_osorio</td>\n",
       "      <td>4.1</td>\n",
       "      <td>1623.415521</td>\n",
       "      <td>0.879608</td>\n",
       "      <td>0.989888</td>\n",
       "      <td>1.0</td>\n",
       "      <td>0.956499</td>\n",
       "    </tr>\n",
       "  </tbody>\n",
       "</table>\n",
       "<p>5 rows × 32 columns</p>\n",
       "</div>"
      ],
      "text/plain": [
       "      id  host_id  host_response_time host_response_rate  host_is_superhost  \\\n",
       "0  17878    68997      within an hour               100%                  0   \n",
       "1  24480    99249  a few days or more               100%                  0   \n",
       "2  25026   102840        within a day                80%                  0   \n",
       "3  35636   153232      within an hour               100%                  1   \n",
       "4  35764   153691      within an hour               100%                  1   \n",
       "\n",
       "   host_has_profile_pic  host_identity_verified        room_type  \\\n",
       "0                     1                       1  Entire home/apt   \n",
       "1                     1                       1  Entire home/apt   \n",
       "2                     1                       1  Entire home/apt   \n",
       "3                     1                       1  Entire home/apt   \n",
       "4                     1                       1  Entire home/apt   \n",
       "\n",
       "   accommodates  bedrooms  ...  host_days_since_start bathroom_qty  \\\n",
       "0             5       2.0  ...                 4369.0          1.0   \n",
       "1             2       1.0  ...                 4292.0          1.0   \n",
       "2             3       1.0  ...                 4284.0          1.0   \n",
       "3             2       1.0  ...                 4200.0          1.5   \n",
       "4             2       1.0  ...                 4199.0          1.5   \n",
       "\n",
       "   shared_bathroom  walking_dist_stations  walking_dist_stations_scores  \\\n",
       "0                0                   NONE                          -1.0   \n",
       "1                0         general_osorio                           4.1   \n",
       "2                0                   NONE                          -1.0   \n",
       "3                0         general_osorio                           4.1   \n",
       "4                0         general_osorio                           4.1   \n",
       "\n",
       "   per_capita_income_2000  longevity_index  education_index  income_index  \\\n",
       "0             1623.415521         0.879608         0.989888           1.0   \n",
       "1             2465.445144         0.894594         0.991860           1.0   \n",
       "2             1623.415521         0.879608         0.989888           1.0   \n",
       "3             2465.445144         0.894594         0.991860           1.0   \n",
       "4             1623.415521         0.879608         0.989888           1.0   \n",
       "\n",
       "   human_development_index  \n",
       "0                 0.956499  \n",
       "1                 0.962151  \n",
       "2                 0.956499  \n",
       "3                 0.962151  \n",
       "4                 0.956499  \n",
       "\n",
       "[5 rows x 32 columns]"
      ]
     },
     "execution_count": 4,
     "metadata": {},
     "output_type": "execute_result"
    }
   ],
   "source": [
    "listings.head()"
   ]
  },
  {
   "cell_type": "code",
   "execution_count": 5,
   "id": "e2aa13e2",
   "metadata": {},
   "outputs": [],
   "source": [
    "def missing_values_ratio(df):\n",
    "    '''\n",
    "    INPUTS:\n",
    "    df - (DataFrame) in which the ratio of nan's will be evaluated\n",
    "    OUTPUTS:\n",
    "    na_ratio_series - (Series) numeric ratio of nan's\n",
    "    '''\n",
    "    # Checking for the ratios of nan values (count of na/ number of rows)\n",
    "    df_na_ratio = df.isna().sum()/df.shape[0]\n",
    "\n",
    "    # Filtering the dataset to show only ratios > 0 \n",
    "    df_na_ratio = df_na_ratio[df_na_ratio>0]\n",
    "\n",
    "    # Sorting values\n",
    "    df_na_ratio.sort_values(ascending = False, inplace = True)\n",
    "\n",
    "    # Visalizing data\n",
    "    sns.barplot(x = df_na_ratio.values, y = df_na_ratio.index)\n",
    "    plt.xlim(0,1)\n",
    "    plt.show()\n",
    "    \n",
    "    return df_na_ratio"
   ]
  },
  {
   "cell_type": "code",
   "execution_count": 6,
   "id": "31eb3788",
   "metadata": {
    "scrolled": true
   },
   "outputs": [
    {
     "data": {
      "image/png": "[encoded data removed]",
      "text/plain": [
       "<Figure size 432x288 with 1 Axes>"
      ]
     },
     "metadata": {
      "needs_background": "light"
     },
     "output_type": "display_data"
    }
   ],
   "source": [
    "# Checking for the ratios of nan values (count of na/ number of rows)\n",
    "listings_na_ratio = missing_values_ratio(listings)"
   ]
  },
  {
   "cell_type": "code",
   "execution_count": 7,
   "id": "b1ac7e58",
   "metadata": {},
   "outputs": [
    {
     "data": {
      "text/plain": [
       "review_scores_location         0.380341\n",
       "review_scores_accuracy         0.380301\n",
       "review_scores_cleanliness      0.380301\n",
       "review_scores_checkin          0.380301\n",
       "review_scores_communication    0.380260\n",
       "review_scores_value            0.380260\n",
       "review_scores_rating           0.365025\n",
       "reviews_per_month              0.365025\n",
       "host_response_time             0.158092\n",
       "host_response_rate             0.158092\n",
       "bedrooms                       0.060695\n",
       "beds                           0.014135\n",
       "bathroom_qty                   0.003707\n",
       "host_days_since_start          0.000611\n",
       "dtype: float64"
      ]
     },
     "execution_count": 7,
     "metadata": {},
     "output_type": "execute_result"
    }
   ],
   "source": [
    "# As visualized in the plot above and in the Series below, \n",
    "# the review_scores features have very similar rations\n",
    "# probably because their are collected \"at the same time\" for each user\n",
    "listings_na_ratio"
   ]
  },
  {
   "cell_type": "code",
   "execution_count": 8,
   "id": "0a0d8c68",
   "metadata": {},
   "outputs": [
    {
     "data": {
      "image/png": "[encoded data removed]",
      "text/plain": [
       "<Figure size 432x288 with 1 Axes>"
      ]
     },
     "metadata": {
      "needs_background": "light"
     },
     "output_type": "display_data"
    }
   ],
   "source": [
    "# Knowing that the reviews_per_month is metric that will lead the analysis to a metric of success\n",
    "# it's reasonable  to evaluate if the nans from reviews_per_mont coincide with the review_scores\n",
    "missing_review_count_df = listings[listings.reviews_per_month.isna()]\n",
    "missing_review_count_series = missing_values_ratio(missing_review_count_df)\n",
    "\n",
    "# As seen in the plot below, there's a risk of data leaking if the review_scores columns are left in the dataset\n",
    "# Therefore, these columns were dropped\n",
    "listings.drop(['review_scores_rating',\n",
    "              'review_scores_accuracy',\n",
    "              'review_scores_cleanliness',\n",
    "              'review_scores_checkin',\n",
    "              'review_scores_communication', \n",
    "              'review_scores_location',\n",
    "              'review_scores_value'\n",
    "              ], axis = 1, inplace = True)"
   ]
  },
  {
   "cell_type": "code",
   "execution_count": 9,
   "id": "801ed3eb",
   "metadata": {
    "scrolled": true
   },
   "outputs": [
    {
     "data": {
      "image/png": "[encoded data removed]",
      "text/plain": [
       "<Figure size 432x288 with 1 Axes>"
      ]
     },
     "metadata": {
      "needs_background": "light"
     },
     "output_type": "display_data"
    }
   ],
   "source": [
    "# Nan's ratio re-evaluation\n",
    "listings_na_ratio = missing_values_ratio(listings)"
   ]
  },
  {
   "cell_type": "code",
   "execution_count": null,
   "id": "a012859b",
   "metadata": {},
   "outputs": [],
   "source": [
    "# Hypothesis\n",
    "# The idea is to reduce the dimensionality of the amenities_processed dataset base\n",
    "# on the most common item combinations applying the apriori algorithm\n",
    "\n",
    "# Source: https://towardsdatascience.com/apriori-association-rule-mining-explanation-and-python-implementation-290b42afdfc6\n",
    "# Github: https://github.com/chonyy/apriori_python\n",
    "# Pypi: https://pypi.org/project/apriori-python/\n",
    "\n",
    "from apriori_python import apriori\n",
    "\n",
    "item_set = []\n",
    "\n",
    "# Loop rows in the dataset\n",
    "for row in range(0, len(amenities)):\n",
    "    item_subset = []\n",
    "    # For each column in the dataset, if the boolan is 1\n",
    "    # Retrieves the column name\n",
    "    for index, boolean in enumerate(amenities.iloc[row]):\n",
    "        if boolean == 1:\n",
    "            item_subset.append(amenities.columns[index])\n",
    "        \n",
    "    item_set.append(item_subset)\n",
    "    \n",
    "freqItemSet, rules = apriori(item_set, minSup=0.6, minConf=0.5)\n",
    "print(rules)"
   ]
  },
  {
   "cell_type": "code",
   "execution_count": null,
   "id": "c8239b89",
   "metadata": {},
   "outputs": [],
   "source": [
    "freqItemSet"
   ]
  },
  {
   "cell_type": "code",
   "execution_count": null,
   "id": "b420ba96",
   "metadata": {},
   "outputs": [],
   "source": [
    "# Count amount of most frequent tokens and token combinations\n",
    "token_count = 0\n",
    "\n",
    "for key in freqItemSet:\n",
    "    token_count += len(freqItemSet[key])\n",
    "\n",
    "token_count"
   ]
  },
  {
   "cell_type": "code",
   "execution_count": null,
   "id": "9b41bb3e",
   "metadata": {},
   "outputs": [],
   "source": [
    "listings.head()"
   ]
  },
  {
   "cell_type": "code",
   "execution_count": null,
   "id": "47945d8e",
   "metadata": {},
   "outputs": [],
   "source": []
  }
 ],
 "metadata": {
  "kernelspec": {
   "display_name": "Python 3 (ipykernel)",
   "language": "python",
   "name": "python3"
  },
  "language_info": {
   "codemirror_mode": {
    "name": "ipython",
    "version": 3
   },
   "file_extension": ".py",
   "mimetype": "text/x-python",
   "name": "python",
   "nbconvert_exporter": "python",
   "pygments_lexer": "ipython3",
   "version": "3.8.10"
  }
 },
 "nbformat": 4,
 "nbformat_minor": 5
}
