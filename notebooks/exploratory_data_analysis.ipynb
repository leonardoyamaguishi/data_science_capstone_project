{
 "cells": [
  {
   "cell_type": "markdown",
   "id": "29771f36",
   "metadata": {},
   "source": [
    "# Introduction\n",
    "\n",
    "Source: http://insideairbnb.com/get-the-data.html <br />\n",
    "Data from: Rio de Janeiro, Rio de Janeiro, Brazil <br />\n",
    "\n",
    "**Note:** <br />\n",
    "* The listings dataset wasn't considered in this analysis as the filesize would exceed Github's max filesize limit <br />\n",
    "* The reviews dataset had to be processed in order to fit the max filesize from Github\n",
    "<br />\n",
    "\n",
    "**Reviews_reduced creation script** \n",
    "<br />\n",
    "<code>reviews.drop(['id', 'reviewer_name', 'reviewer_id'], axis = 1, inplace = True)\n",
    "reviews.to_csv(data_filepath + 'reviews_reduced.csv')<code>"
   ]
  },
  {
   "cell_type": "code",
   "execution_count": 4,
   "id": "0f9b2c9e",
   "metadata": {},
   "outputs": [],
   "source": [
    "# Importing relevant liberaries for EDA\n",
    "import pandas as pd\n",
    "import numpy as np\n",
    "import seaborn as sns\n",
    "import os"
   ]
  },
  {
   "cell_type": "code",
   "execution_count": 5,
   "id": "348307e4",
   "metadata": {},
   "outputs": [
    {
     "data": {
      "text/plain": [
       "'/Users/leonardoyamaguishi/Documents/Udacity/data_science_capstone_project/'"
      ]
     },
     "execution_count": 5,
     "metadata": {},
     "output_type": "execute_result"
    }
   ],
   "source": [
    "os.path.abspath('')[:-9]"
   ]
  },
  {
   "cell_type": "code",
   "execution_count": null,
   "id": "7c7a6ea6",
   "metadata": {},
   "outputs": [],
   "source": [
    "# Reading the datasets\n",
    "data_filepath = os.path.abspath('')[:-9] + '/data/'\n",
    "\n",
    "# calendar = pd.read_csv(data_filepath + 'calendar.csv') removed from the analysis, as the file is too heavy for Git\n",
    "listings = diet = pd.read_csv(data_filepath + 'listings.csv')\n",
    "reviews_reduced = pd.read_csv(data_filepath + 'reviews.csv')"
   ]
  },
  {
   "cell_type": "markdown",
   "id": "b05f1ac7",
   "metadata": {},
   "source": [
    "# EDA - General Data Overview"
   ]
  },
  {
   "cell_type": "markdown",
   "id": "5404f4ee",
   "metadata": {},
   "source": [
    "## Useful functions for EDA"
   ]
  },
  {
   "cell_type": "code",
   "execution_count": 3,
   "id": "369fa8ef",
   "metadata": {},
   "outputs": [],
   "source": [
    "def list_nan_columns(df):\n",
    "    '''\n",
    "    INPUT:\n",
    "    df - (DataFrame) in which the columns composed entirely of NaN values will be listed\n",
    "    OUTPUT:\n",
    "    nan_columns_list - (list) of columns composed entirely of NaN values\n",
    "    '''\n",
    "    \n",
    "    nan_columns_list = []\n",
    "    \n",
    "    for column in df.columns:\n",
    "        if df[column].isna().sum() == df.shape[0]:\n",
    "            nan_columns_list.append(column)\n",
    "            \n",
    "    return nan_columns_list"
   ]
  },
  {
   "cell_type": "code",
   "execution_count": 4,
   "id": "044246cd",
   "metadata": {},
   "outputs": [
    {
     "data": {
      "text/plain": [
       "['neighbourhood_group_cleansed', 'bathrooms', 'calendar_updated', 'license']"
      ]
     },
     "execution_count": 4,
     "metadata": {},
     "output_type": "execute_result"
    }
   ],
   "source": [
    "list_nan_columns(listings)"
   ]
  }
 ],
 "metadata": {
  "kernelspec": {
   "display_name": "Python 3",
   "language": "python",
   "name": "python3"
  },
  "language_info": {
   "codemirror_mode": {
    "name": "ipython",
    "version": 3
   },
   "file_extension": ".py",
   "mimetype": "text/x-python",
   "name": "python",
   "nbconvert_exporter": "python",
   "pygments_lexer": "ipython3",
   "version": "3.9.1"
  }
 },
 "nbformat": 4,
 "nbformat_minor": 5
}
